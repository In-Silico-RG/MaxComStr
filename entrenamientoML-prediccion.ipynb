{
 "cells": [
  {
   "cell_type": "code",
   "execution_count": 7,
   "id": "49889350-1c2e-41d7-826c-c72da0cabfdc",
   "metadata": {},
   "outputs": [
    {
     "name": "stdout",
     "output_type": "stream",
     "text": [
      "Index(['Compound ID', 'ESOL predicted log solubility in mols per litre',\n",
      "       'Minimum Degree', 'Molecular Weight', 'Number of H-Bond Donors',\n",
      "       'Number of Rings', 'Number of Rotatable Bonds', 'Polar Surface Area',\n",
      "       'measured log solubility in mols per litre', 'smiles'],\n",
      "      dtype='object')\n"
     ]
    }
   ],
   "source": [
    "## Para empezar a ejecutar el codigo necesita un dataset ESOL (Delaney) el cual puede descargar en su sitio web ##\n",
    "\n",
    "import pandas as pd\n",
    "\n",
    "# Cambia el nombre si tu archivo es diferente\n",
    "df = pd.read_csv(\"delaney-processed.csv\")\n",
    "print(df.columns)  # Para ver los nombres de las columnas"
   ]
  },
  {
   "cell_type": "code",
   "execution_count": 8,
   "id": "bb9b6321-e825-4120-953a-b4e288f8173b",
   "metadata": {},
   "outputs": [
    {
     "name": "stdout",
     "output_type": "stream",
     "text": [
      "R² test: 0.6208097872365256\n"
     ]
    },
    {
     "data": {
      "text/plain": [
       "['chemcomp_model.pkl']"
      ]
     },
     "execution_count": 8,
     "metadata": {},
     "output_type": "execute_result"
    }
   ],
   "source": [
    "import pandas as pd\n",
    "from sklearn.ensemble import RandomForestRegressor\n",
    "from sklearn.model_selection import train_test_split\n",
    "import joblib\n",
    "\n",
    "# 1. Cargar el dataset ESOL\n",
    "df = pd.read_csv('delaney-processed.csv')\n",
    "\n",
    "# 2. Seleccionar descriptores y variable objetivo\n",
    "X = df[['Molecular Weight', 'Number of H-Bond Donors']]\n",
    "y = df['measured log solubility in mols per litre']\n",
    "\n",
    "# 3. Entrenar el modelo Random Forest\n",
    "X_train, X_test, y_train, y_test = train_test_split(X, y, test_size=0.2, random_state=42)\n",
    "model = RandomForestRegressor(n_estimators=200, n_jobs=-1, random_state=42)\n",
    "model.fit(X_train, y_train)\n",
    "print(\"R² test:\", model.score(X_test, y_test))  # Evaluación del modelo\n",
    "\n",
    "# 4. Guardar el modelo entrenado\n",
    "joblib.dump(model, 'chemcomp_model.pkl')"
   ]
  },
  {
   "cell_type": "code",
   "execution_count": 10,
   "id": "1688718d-de24-45ce-9462-77570ee571a7",
   "metadata": {},
   "outputs": [
    {
     "name": "stdout",
     "output_type": "stream",
     "text": [
      "¡Predicciones guardadas en /home/angel/Escritorio/smiles_chebi/antocianinas_con_solubilidad.csv!\n",
      "¡Predicciones guardadas en /home/angel/Escritorio/smiles_chebi/clorofilas_con_solubilidad.csv!\n",
      "¡Predicciones guardadas en /home/angel/Escritorio/smiles_chebi/flavonoides_con_solubilidad.csv!\n",
      "¡Predicciones guardadas en /home/angel/Escritorio/smiles_chebi/xantofilas_con_solubilidad.csv!\n"
     ]
    }
   ],
   "source": [
    "import pandas as pd\n",
    "import joblib\n",
    "from rdkit import Chem\n",
    "from rdkit.Chem import Descriptors\n",
    "import os\n",
    "\n",
    "# Ruta al modelo entrenado\n",
    "modelo_path = '/home/angel/Escritorio/smiles_chebi/ML/chemcomp_model.pkl'\n",
    "model = joblib.load(modelo_path)\n",
    "\n",
    "# Archivos a procesar (en la carpeta de tus compuestos)\n",
    "archivos = [\n",
    "    \"antocianinas.csv\",\n",
    "    \"clorofilas.csv\",\n",
    "    \"flavonoides.csv\",\n",
    "    \"xantofilas.csv\"\n",
    "]\n",
    "\n",
    "# Ruta base donde están tus archivos de compuestos\n",
    "ruta_base = '/home/angel/Escritorio/smiles_chebi/'\n",
    "\n",
    "def get_desc(smiles):\n",
    "    mol = Chem.MolFromSmiles(smiles)\n",
    "    if mol is None:\n",
    "        return [None, None]\n",
    "    return [Descriptors.MolWt(mol), Descriptors.NumHDonors(mol)]\n",
    "\n",
    "for archivo in archivos:\n",
    "    ruta_archivo = os.path.join(ruta_base, archivo)\n",
    "    df = pd.read_csv(ruta_archivo)\n",
    "    desc = df['chebi_smiles'].apply(get_desc)\n",
    "    desc_df = pd.DataFrame(desc.tolist(), columns=['Molecular Weight', 'Number of H-Bond Donors'])\n",
    "    df_pred = pd.concat([df, desc_df], axis=1).dropna(subset=['Molecular Weight', 'Number of H-Bond Donors'])\n",
    "    df_pred['solubility_pred'] = model.predict(df_pred[['Molecular Weight', 'Number of H-Bond Donors']])\n",
    "    resultado = archivo.replace('.csv', '_con_solubilidad.csv')\n",
    "    ruta_resultado = os.path.join(ruta_base, resultado)\n",
    "    df_pred.to_csv(ruta_resultado, index=False)\n",
    "    print(f\"¡Predicciones guardadas en {ruta_resultado}!\")"
   ]
  },
  {
   "cell_type": "code",
   "execution_count": null,
   "id": "f8f1f290-405c-4c6a-9e6c-7fbf96b3b97b",
   "metadata": {},
   "outputs": [],
   "source": []
  }
 ],
 "metadata": {
  "kernelspec": {
   "display_name": "Python 3 (ipykernel)",
   "language": "python",
   "name": "python3"
  },
  "language_info": {
   "codemirror_mode": {
    "name": "ipython",
    "version": 3
   },
   "file_extension": ".py",
   "mimetype": "text/x-python",
   "name": "python",
   "nbconvert_exporter": "python",
   "pygments_lexer": "ipython3",
   "version": "3.12.2"
  }
 },
 "nbformat": 4,
 "nbformat_minor": 5
}
